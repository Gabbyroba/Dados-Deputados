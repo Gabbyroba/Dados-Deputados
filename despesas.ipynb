{
 "cells": [
  {
   "cell_type": "code",
   "execution_count": null,
   "metadata": {},
   "outputs": [],
   "source": [
    "from tqdm import tqdm\n",
    "import requests\n",
    "import json \n",
    "import pandas as pd \n",
    "\n",
    "# PRIMEIRA REQUISIÇÃO - DADOS DOS DEPUTADOS \n",
    "url = 'https://dadosabertos.camara.leg.br/api/v2/deputados?ordem=ASC&ordenarPor=nome'\n",
    "r = requests.get(url, allow_redirects=True)\n",
    "data = r.json()\n",
    "deputados = data['dados']\n",
    "dfr = pd.DataFrame(deputados)\n"
   ]
  },
  {
   "cell_type": "code",
   "execution_count": null,
   "metadata": {},
   "outputs": [],
   "source": [
    "# CRIA LISTAS VAZIAS PARA ARMAZENAR OS DADOS\n",
    "despesas_totais = []\n",
    "listas2 = []\n",
    "listas3 = []\n",
    "listas4 = []\n",
    "listas5 = []\n",
    "listas6 = []\n",
    "listas7 = []\n",
    "\n",
    "# DESPESAS INDIVIDUAIS DE DEPUTADOS POR ID\n",
    "for id_deputado in tqdm(deputados, desc='Progresso'):\n",
    "    id_deputado = id_deputado['id']\n",
    "    page = 1\n",
    "    has_next_page = True\n",
    "\n",
    "    # SEGUNDA REQUISIÇÃO - PAGINAÇÃO E BUSCA DE DESPESAS TOTAIS POR ID  \n",
    "    while has_next_page:\n",
    "        des = f'https://dadosabertos.camara.leg.br/api/v2/deputados/{id_deputado}/despesas?ano=2023&itens=100&pagina={page}'\n",
    "        req = requests.get(des, allow_redirects=True)\n",
    "        dado = req.json()\n",
    "        despesas = dado['dados']\n",
    "        despesas_totais.extend(despesas)"
   ]
  },
  {
   "cell_type": "code",
   "execution_count": null,
   "metadata": {},
   "outputs": [],
   "source": [
    "        \n",
    "# ARMAZENA DADOS NAS LISTAS\n",
    "for c in range (1, len(despesas)):    \n",
    "    nome = dfr.loc[dfr['id'] == id_deputado, 'nome']\n",
    "    sigla_partido = dfr.loc[dfr['id'] == id_deputado, 'siglaPartido']\n",
    "    sigla_Uf = dfr.loc[dfr['id'] == id_deputado, 'siglaUf']\n",
    "    id_Legislatura = dfr.loc[dfr['id'] == id_deputado, 'idLegislatura']\n",
    "    url_Foto = dfr.loc[dfr['id'] == id_deputado, 'urlFoto']\n",
    "    email = dfr.loc[dfr['id'] == id_deputado, 'email']\n",
    "\n",
    "    listas2.append(nome.tolist())\n",
    "    listas3.append(sigla_partido.tolist())\n",
    "    listas4.append(sigla_Uf.tolist())\n",
    "    listas5.append(id_Legislatura.tolist())\n",
    "    listas6.append(url_Foto.tolist())\n",
    "    listas7.append(email.tolist())\n",
    "      "
   ]
  },
  {
   "cell_type": "code",
   "execution_count": null,
   "metadata": {},
   "outputs": [],
   "source": [
    "# PERCORRE AS PÁGINAS E ADICIONA + 1, CASO TENHA LINK DE \"NEXT PAGE\"\n",
    "if 'next' in dado['links']:\n",
    "    page += 1\n",
    "else:\n",
    "    has_next_page = False"
   ]
  },
  {
   "cell_type": "code",
   "execution_count": null,
   "metadata": {},
   "outputs": [],
   "source": [
    "# JUNTA AS LISTAS  \n",
    "zipado = list(zip(listas2, listas3, listas4, listas5, listas6, listas7))\n"
   ]
  },
  {
   "cell_type": "code",
   "execution_count": null,
   "metadata": {},
   "outputs": [],
   "source": [
    "# CRIA OS DATAFRAMES\n",
    "dfdep = pd.DataFrame(zipado)\n",
    "dfdesp = pd.DataFrame(despesas_totais)\n"
   ]
  },
  {
   "cell_type": "code",
   "execution_count": null,
   "metadata": {},
   "outputs": [],
   "source": [
    "# RENOMEIA COLUNAS DO DATAFRAME DFDEP\n",
    "dfdep.rename(columns={0: 'nome', 1: 'siglaPartido', 2: 'siglaUF', \n",
    "                      3: 'idLegislatura', 4: 'foto', 5: 'email'}, inplace=True)\n"
   ]
  },
  {
   "cell_type": "code",
   "execution_count": null,
   "metadata": {},
   "outputs": [],
   "source": [
    "# RELACIONA OS DATAFRAMES E EXPORTA COMO XLSX (EXCEL)\n",
    "dffinal = dfdep.join(dfdesp)\n",
    "dffinal.to_excel('despesasdep.xlsx')"
   ]
  },
  {
   "cell_type": "code",
   "execution_count": null,
   "metadata": {},
   "outputs": [],
   "source": [
    "# LÊ A TABELA PARA TRATAR DADOS\n",
    "despesasxcel = pd.read_excel('despesasdep.xlsx')\n",
    "tabela = despesasxcel"
   ]
  },
  {
   "cell_type": "code",
   "execution_count": null,
   "metadata": {},
   "outputs": [],
   "source": [
    "# ELIMINA CARACTERES INDESEJADOS\n",
    "tabela['nome'] = tabela['nome'].str.strip(\"[]'\")\n",
    "tabela['siglaPartido'] = tabela['siglaPartido'].str.strip(\"[]'\")\n",
    "tabela['siglaUF'] = tabela['siglaUF'].str.strip(\"[]'\")\n",
    "tabela['idLegislatura'] = tabela['idLegislatura'].str.strip(\"[]'\")\n",
    "tabela['foto'] = tabela['foto'].str.strip(\"[]'\")\n",
    "tabela['email'] = tabela['email'].str.strip(\"[]'\")"
   ]
  },
  {
   "cell_type": "code",
   "execution_count": null,
   "metadata": {},
   "outputs": [],
   "source": [
    "# ELIMINA VALORES NULOS E COLUNAS DESNECESSÁRIAS\n",
    "tabela = tabela.dropna()\n",
    "tabelaf = tabela.drop(columns='Unnamed: 0')"
   ]
  },
  {
   "cell_type": "code",
   "execution_count": null,
   "metadata": {},
   "outputs": [],
   "source": [
    "# SALVA O ARQUIVO FINAL EM XLSX (EXCEL) IGNORANDO O INDEX:\n",
    "tabelaf.to_excel('despesasdepfinal.xlsx', index=False)"
   ]
  }
 ],
 "metadata": {
  "kernelspec": {
   "display_name": "Python 3",
   "language": "python",
   "name": "python3"
  },
  "language_info": {
   "codemirror_mode": {
    "name": "ipython",
    "version": 3
   },
   "file_extension": ".py",
   "mimetype": "text/x-python",
   "name": "python",
   "nbconvert_exporter": "python",
   "pygments_lexer": "ipython3",
   "version": "3.10.5"
  },
  "orig_nbformat": 4
 },
 "nbformat": 4,
 "nbformat_minor": 2
}
